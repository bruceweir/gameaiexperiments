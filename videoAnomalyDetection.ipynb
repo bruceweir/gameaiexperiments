{
 "cells": [
  {
   "cell_type": "markdown",
   "metadata": {},
   "source": [
    "# Video-based anomaly Detector\n",
    "This application is an example of how anomaly detection might be used in a camera trap. During the training phase, it first learns what a typical scene contains, and then, during the running phase it highlights areas of subsequent images where it sees something unexpected.\n",
    "\n",
    "It works by making a stastical profile of each pixel in the image, calculating the mean and standard deviation of the pixel values over time, and then looking for pixel values which are beyond a certain distance from the centre of the value distribution.\n",
    "\n",
    "To quit the application, press 'q' when one of the output windows has focus.\n",
    "\n",
    "There are a load of improvements which could be made, but it proves the concept.\n",
    "\n",
    "### Suggestion for improvement\n",
    "\n",
    "* Check if the pixel values are actually normally distributed, if not, transform them until they are\n",
    "* Check for very narrow (low standard deviation) distributions and exclude them, they can be caused by saturated pixels (i.e. bright lights)\n",
    "* Instead of a single training pass, do a running mean and standard deviation with a set window\n",
    "\n",
    "Installing the Anaconda Python distribution (<https://www.continuum.io/downloads>) should give you everything needed to run this (with the possible exception of opencv (<http://opencv-python-tutroals.readthedocs.io/en/latest/py_tutorials/py_setup/py_setup_in_windows/py_setup_in_windows.html>).\n",
    "\n",
    "<bruce.weir@bbc.co.uk>"
   ]
  },
  {
   "cell_type": "code",
   "execution_count": 1,
   "metadata": {},
   "outputs": [
    {
     "name": "stdout",
     "output_type": "stream",
     "text": [
      "Populating the interactive namespace from numpy and matplotlib\n"
     ]
    },
    {
     "name": "stderr",
     "output_type": "stream",
     "text": [
      "c:\\program files\\python36\\lib\\site-packages\\IPython\\core\\magics\\pylab.py:160: UserWarning: pylab import has clobbered these variables: ['datetime', 'random']\n",
      "`%matplotlib` prevents importing * from pylab and numpy\n",
      "  \"\\n`%matplotlib` prevents importing * from pylab and numpy\"\n"
     ]
    }
   ],
   "source": [
    "from IPython.display import display, clear_output\n",
    "import numpy as np\n",
    "import cv2\n",
    "import matplotlib.pyplot as plt\n",
    "from matplotlib import ticker, cm\n",
    "import sys, time\n",
    "import sys\n",
    "from subprocess import call\n",
    "from multiprocessing import Process\n",
    "import multiprocessing\n",
    "import random\n",
    "import scipy.stats\n",
    "from datetime import datetime\n",
    "\n",
    "\n",
    "        \n",
    "%pylab inline\n"
   ]
  },
  {
   "cell_type": "markdown",
   "metadata": {},
   "source": [
    "### This is the function which gets called when the camera trap is triggered. It is a separate process which plays some sounds. Add your own sound files here (or change it to your own functionality). The 'evt' is part of the multiprocessing package and allows control of secondary processes. (In this case, it stops a new sound being played until the old one is finished)"
   ]
  },
  {
   "cell_type": "code",
   "execution_count": 2,
   "metadata": {},
   "outputs": [],
   "source": [
    "  \n",
    "def playSound(evt,):\n",
    "    \n",
    "    soundFiles=[\"/home/brucew/sound.mp3\", \n",
    "                \"/home/brucew/ping.mp3\",\n",
    "               \"/home/brucew/cheering.mp3\",\n",
    "               \"/home/brucew/foghorn.mp3\",\n",
    "               \"/home/brucew/cockerel.mp3\"]\n",
    "    while(True):\n",
    "        evt.wait()\n",
    "        print('playSound')\n",
    "        if sys.platform == 'linux2':\n",
    "            call([\"ffplay\", \"-nodisp\", \"-autoexit\", random.choice(soundFiles)])\n",
    "        elif sys.platform == 'darwin':\n",
    "            call([\"afplay\",\"sound.mp3\"])\n",
    "        evt.clear()\n",
    "    \n",
    "    \n"
   ]
  },
  {
   "cell_type": "markdown",
   "metadata": {},
   "source": [
    "### Start the audio process. This is what will play a sound when it gets triggered by the anomaly detector"
   ]
  },
  {
   "cell_type": "code",
   "execution_count": 3,
   "metadata": {},
   "outputs": [],
   "source": [
    "evt = multiprocessing.Event()\n",
    "\n",
    "if __name__ == '__main__':\n",
    "    p = Process(target=playSound, args=(evt,))\n",
    "    p.start()\n",
    "\n",
    "    \n"
   ]
  },
  {
   "cell_type": "markdown",
   "metadata": {},
   "source": [
    "### Calculates the probability of 'x', given the mean and standard deviation of the previous samples. Assumes that the samples have a Normal distribution"
   ]
  },
  {
   "cell_type": "code",
   "execution_count": 4,
   "metadata": {},
   "outputs": [],
   "source": [
    "def gaussian(x, mean, std):\n",
    "    #check for very small standard deviations\n",
    "    if(2 * std ** 2 == 0):\n",
    "        return 1.0\n",
    "        \n",
    "    return (1.0/(math.sqrt(2*math.pi) * std)) * math.exp(-((x-mean)**2)/(2*std**2))"
   ]
  },
  {
   "cell_type": "markdown",
   "metadata": {},
   "source": [
    "# Training process"
   ]
  },
  {
   "cell_type": "markdown",
   "metadata": {},
   "source": [
    "## Capture the training data. \n",
    "Note that the image is scaled down significantly. The scaling interpolation helps to smooth noise in the image (as well as speed later calculations up).\n",
    "To train on more images, increase the nTrainingFrames variable."
   ]
  },
  {
   "cell_type": "code",
   "execution_count": 5,
   "metadata": {},
   "outputs": [
    {
     "name": "stdout",
     "output_type": "stream",
     "text": [
      "(200, 24, 32)\n"
     ]
    }
   ],
   "source": [
    "scalingFactor = 0.05;\n",
    "\n",
    "# 0 is the first webcam. Can also use a file or a URL (for a remote stream for example)\n",
    "cap = cv2.VideoCapture(0)#'udp://localhost:8090')#'./beans.avi')\n",
    "\n",
    "#increase nTrainingFrames to get more training samples\n",
    "nTrainingFrames = 200\n",
    "trainingFrames = []\n",
    "nFramesCaptured = 0\n",
    "\n",
    "while(cap.isOpened()):\n",
    "    \n",
    "    ret, frame = cap.read()\n",
    "    \n",
    "    res = cv2.resize(frame, None, fx=scalingFactor, fy=scalingFactor, interpolation = cv2.INTER_CUBIC)    \n",
    "\n",
    "    #currently just uses a greyscale image\n",
    "    grayImage = cv2.cvtColor(res, cv2.COLOR_BGR2GRAY)\n",
    "    \n",
    "    #print(len(trainingFrames))\n",
    "        \n",
    "    if(len(trainingFrames) < nTrainingFrames):\n",
    "        trainingFrames.append(grayImage)\n",
    "    else:\n",
    "        break\n",
    "    \n",
    "    cv2.imshow('Training Images (Press Q to quit)',grayImage)\n",
    "    #cv2.sleep(5)\n",
    "    if cv2.waitKey(1) & 0xFF == ord('q'):\n",
    "        break\n",
    "\n",
    "cap.release()\n",
    "cv2.destroyAllWindows()\n",
    "\n",
    "trainingFrames = np.array(trainingFrames, dtype=np.float)\n",
    "\n",
    "print(trainingFrames.shape)"
   ]
  },
  {
   "cell_type": "markdown",
   "metadata": {},
   "source": [
    "# Take a look at the captured data, per pixel mean, standard deviation and skew and a look at a value histogram"
   ]
  },
  {
   "cell_type": "markdown",
   "metadata": {},
   "source": [
    "## Calculate mean, standard deviation and skew of each pixel in the subsampled image.\n"
   ]
  },
  {
   "cell_type": "code",
   "execution_count": 6,
   "metadata": {},
   "outputs": [
    {
     "name": "stdout",
     "output_type": "stream",
     "text": [
      "Mean value range: 0.000000 to 253.810000\n",
      "\n",
      "Standard deviation value range: 0.000000 to 58.661059\n",
      "\n",
      "Skews: -5.737588 to 2.067020\n",
      "\n"
     ]
    }
   ],
   "source": [
    "means = trainingFrames.mean(axis=0)\n",
    "stds = trainingFrames.std(axis=0)\n",
    "skews = scipy.stats.skew(trainingFrames, axis=0)\n",
    "\n",
    "print('Mean value range: %f to %f\\n' %(means.min(), means.max()))\n",
    "print('Standard deviation value range: %f to %f\\n' %(stds.min(), stds.max()))\n",
    "print('Skews: %f to %f\\n' % (skews.min(), skews.max()))\n"
   ]
  },
  {
   "cell_type": "markdown",
   "metadata": {},
   "source": [
    "## Plot a histogram of the samples collected from one of the pixels (10,12 in this case). Ideally it should look like a normal distribution, if it doesn't then the data would have to be transformed until it does"
   ]
  },
  {
   "cell_type": "code",
   "execution_count": 7,
   "metadata": {},
   "outputs": [
    {
     "data": {
      "image/png": "[encoded data removed]",
      "text/plain": [
       "<Figure size 432x288 with 1 Axes>"
      ]
     },
     "metadata": {
      "needs_background": "light"
     },
     "output_type": "display_data"
    }
   ],
   "source": [
    "#set all images to print greyscale\n",
    "#gray()\n",
    "\n",
    "figure()\n",
    "\n",
    "plt.hist(trainingFrames[:, 10, 12], bins=30);"
   ]
  },
  {
   "cell_type": "markdown",
   "metadata": {},
   "source": [
    "## Show the mean image (the mean of each pixel over time)"
   ]
  },
  {
   "cell_type": "code",
   "execution_count": 8,
   "metadata": {},
   "outputs": [
    {
     "data": {
      "text/plain": [
       "<matplotlib.image.AxesImage at 0x151d91a5a58>"
      ]
     },
     "metadata": {},
     "output_type": "display_data"
    },
    {
     "data": {
      "text/plain": [
       "Text(0.5, 1.0, 'Means')"
      ]
     },
     "execution_count": 8,
     "metadata": {},
     "output_type": "execute_result"
    },
    {
     "data": {
      "image/png": "[encoded data removed]",
      "text/plain": [
       "<Figure size 432x288 with 1 Axes>"
      ]
     },
     "metadata": {
      "needs_background": "light"
     },
     "output_type": "display_data"
    }
   ],
   "source": [
    "figure()\n",
    "#show the mean image\n",
    "display(imshow(means, interpolation='none', cmap='gray'))\n",
    "title('Means')"
   ]
  },
  {
   "cell_type": "markdown",
   "metadata": {},
   "source": [
    "## Show the standard deviation of each pixel. This is shown as a contour image, since the scaling can be controlled more easily"
   ]
  },
  {
   "cell_type": "code",
   "execution_count": 9,
   "metadata": {
    "scrolled": true
   },
   "outputs": [
    {
     "data": {
      "text/plain": [
       "<matplotlib.contour.QuadContourSet at 0x151d9211a90>"
      ]
     },
     "metadata": {},
     "output_type": "display_data"
    },
    {
     "data": {
      "image/png": "[encoded data removed]",
      "text/plain": [
       "<Figure size 432x288 with 2 Axes>"
      ]
     },
     "metadata": {
      "needs_background": "light"
     },
     "output_type": "display_data"
    }
   ],
   "source": [
    "figure()\n",
    "\n",
    "cf = plt.contourf(stds)#, vmin=0, vmax=128)\n",
    "# Make a colorbar for the ContourSet returned by the contourf call.\n",
    "cbar = plt.colorbar(cf)\n",
    "plt.gca().invert_yaxis()\n",
    "cbar.ax.set_ylabel('SD')\n",
    "title('stds')\n",
    "display(cf)\n",
    "       "
   ]
  },
  {
   "cell_type": "markdown",
   "metadata": {},
   "source": [
    "## Display the skew (deviation from normal distribution) of each pixel. If these are too large, then the anomaly detector won't work very well for that pixel"
   ]
  },
  {
   "cell_type": "code",
   "execution_count": 10,
   "metadata": {},
   "outputs": [
    {
     "data": {
      "text/plain": [
       "<matplotlib.contour.QuadContourSet at 0x151d92d9c18>"
      ]
     },
     "metadata": {},
     "output_type": "display_data"
    },
    {
     "data": {
      "image/png": "[encoded data removed]",
      "text/plain": [
       "<Figure size 432x288 with 2 Axes>"
      ]
     },
     "metadata": {
      "needs_background": "light"
     },
     "output_type": "display_data"
    }
   ],
   "source": [
    "figure()\n",
    "\n",
    "skewcf = plt.contourf(skews)\n",
    "# Make a colorbar for the ContourSet returned by the contourf call.\n",
    "cbar = plt.colorbar(skewcf)\n",
    "plt.gca().invert_yaxis()\n",
    "cbar.ax.set_ylabel('Skews')\n",
    "title('skews')\n",
    "display(skewcf)"
   ]
  },
  {
   "cell_type": "markdown",
   "metadata": {},
   "source": [
    "# Anomaly Detection\n",
    "\n",
    "For a new sample image, calculate probability of each pixel. If it is lower than a threshold, then set the output pixel to 1 (showing an anomaly), else 0. \n",
    "If the proportion of anomalous pixels is greather than a threshold, then the detector is triggered (and in this case plays a sound).\n",
    "To increase the sensitivity of the detector, reduce the 'anomalyProbabilityThreshold' variable.\n",
    "To reduce the number of anomalous pixels required to trigger the trap, lower the 'proportionOfAnomalousPixelsToTriggerEvent' variable."
   ]
  },
  {
   "cell_type": "code",
   "execution_count": 11,
   "metadata": {
    "scrolled": true
   },
   "outputs": [
    {
     "data": {
      "text/plain": [
       "<Figure size 432x288 with 0 Axes>"
      ]
     },
     "metadata": {},
     "output_type": "display_data"
    }
   ],
   "source": [
    "probabilityImage = np.zeros(shape=means.shape)\n",
    "\n",
    "cap = cv2.VideoCapture(0)\n",
    "fig = figure()\n",
    "fig.clf()\n",
    "\n",
    "count = 0\n",
    "anomalyProbabilityThreshold = 1e-25\n",
    "anomalyValues = []\n",
    "proportionOfAnomalousPixelsToTriggerEvent = 0.05\n",
    "\n",
    "\n",
    "while(cap.isOpened()):\n",
    "    ret, frame = cap.read()\n",
    "    \n",
    "    res = cv2.resize(frame, None, fx=scalingFactor, fy=scalingFactor, interpolation = cv2.INTER_CUBIC)    \n",
    "\n",
    "    del frame\n",
    "    \n",
    "    grayImage = cv2.cvtColor(res, cv2.COLOR_BGR2GRAY)\n",
    "   \n",
    "    \n",
    "    mn=1e99\n",
    "    mx=0\n",
    "    \n",
    "    #check each pixel in the image to check if it is outside of the threshold probability value\n",
    "    \n",
    "    for y in range(grayImage.shape[0]):\n",
    "        for x in range(grayImage.shape[1]):\n",
    "            av = gaussian(grayImage[y][x], means[y][x], stds[y][x])\n",
    "            probabilityImage[y][x] = 1.0 if av < anomalyProbabilityThreshold else 0.0\n",
    "            if(probabilityImage[y][x] == 1): \n",
    "                res[y][x] = [0, 0, 255] #highlight anomalous pixels in red\n",
    "    \n",
    "    #make some larger output iqmages to display\n",
    "    probabilityImageInc = cv2.resize(probabilityImage, None, fx=.75/scalingFactor, fy=.75/scalingFactor, interpolation = cv2.INTER_CUBIC)    \n",
    "    resInc = cv2.resize(res, None, fx=.75/scalingFactor, fy=.75/scalingFactor, interpolation = 0)    \n",
    "    \n",
    "    #trigger the audio by setting the event that it is listening for\n",
    "    if probabilityImage.mean() > proportionOfAnomalousPixelsToTriggerEvent:\n",
    "        #print('Anomaly Detected')\n",
    "        #print(datetime.now())\n",
    "        if not evt.is_set():\n",
    "            evt.set()\n",
    "\n",
    "    #display the output images\n",
    "    # show('Anomalous Pixels (Press Q to quit)', probabilityImageInc)\n",
    "    cv2.imshow('Highlighted Pixels (Press Q to quit)', resInc)\n",
    "    \n",
    "    if cv2.waitKey(1) & 0xFF == ord('q'):\n",
    "        break\n",
    "    \n",
    "cap.release()\n",
    "cv2.destroyAllWindows()\n"
   ]
  },
  {
   "cell_type": "code",
   "execution_count": null,
   "metadata": {},
   "outputs": [],
   "source": []
  }
 ],
 "metadata": {
  "anaconda-cloud": {},
  "kernelspec": {
   "display_name": "Python 3",
   "language": "python",
   "name": "python3"
  },
  "language_info": {
   "codemirror_mode": {
    "name": "ipython",
    "version": 3
   },
   "file_extension": ".py",
   "mimetype": "text/x-python",
   "name": "python",
   "nbconvert_exporter": "python",
   "pygments_lexer": "ipython3",
   "version": "3.6.2"
  }
 },
 "nbformat": 4,
 "nbformat_minor": 1
}
